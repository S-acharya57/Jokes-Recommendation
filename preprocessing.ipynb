{
 "cells": [
  {
   "cell_type": "code",
   "execution_count": 3,
   "metadata": {},
   "outputs": [],
   "source": [
    "import pandas as pd \n",
    "import matplotlib.pyplot as plt \n",
    "import numpy as np "
   ]
  },
  {
   "cell_type": "code",
   "execution_count": 4,
   "metadata": {},
   "outputs": [
    {
     "name": "stdout",
     "output_type": "stream",
     "text": [
      "data\\jester_items.csv\n",
      "   jokeId                                           jokeText\n",
      "0       1  A man visits the doctor. The doctor says \"I ha...\n",
      "1       2  This couple had an excellent relationship goin...\n",
      "data\\jester_ratings.csv\n",
      "   userId  jokeId  rating\n",
      "0       1       5   0.219\n",
      "1       1       7  -9.281\n"
     ]
    }
   ],
   "source": [
    "import os \n",
    "import glob \n",
    "\n",
    "files = glob.glob('data/*')\n",
    "dfs = {}\n",
    "\n",
    "for i, file in enumerate(files):\n",
    "    dfs[i] = pd.read_csv(file)\n",
    "    print(f'{file}\\n{dfs[i].head(2)}')"
   ]
  },
  {
   "cell_type": "code",
   "execution_count": 5,
   "metadata": {},
   "outputs": [
    {
     "data": {
      "text/plain": [
       "(   jokeId                                           jokeText\n",
       " 0       1  A man visits the doctor. The doctor says \"I ha...,\n",
       "    userId  jokeId  rating\n",
       " 0       1       5   0.219)"
      ]
     },
     "execution_count": 5,
     "metadata": {},
     "output_type": "execute_result"
    }
   ],
   "source": [
    "dfs[0].head(1), dfs[1].head(1)"
   ]
  },
  {
   "cell_type": "code",
   "execution_count": 10,
   "metadata": {},
   "outputs": [],
   "source": [
    "rating_df = dfs[1][:10000]\n",
    "jokes_df = dfs[0] "
   ]
  },
  {
   "cell_type": "code",
   "execution_count": 11,
   "metadata": {},
   "outputs": [
    {
     "data": {
      "text/plain": [
       "(Index(['userId', 'jokeId', 'rating'], dtype='object'),\n",
       " Index(['jokeId', 'jokeText'], dtype='object'))"
      ]
     },
     "execution_count": 11,
     "metadata": {},
     "output_type": "execute_result"
    }
   ],
   "source": [
    "rating_df.columns, jokes_df.columns"
   ]
  },
  {
   "cell_type": "code",
   "execution_count": 12,
   "metadata": {},
   "outputs": [
    {
     "data": {
      "text/html": [
       "<div>\n",
       "<style scoped>\n",
       "    .dataframe tbody tr th:only-of-type {\n",
       "        vertical-align: middle;\n",
       "    }\n",
       "\n",
       "    .dataframe tbody tr th {\n",
       "        vertical-align: top;\n",
       "    }\n",
       "\n",
       "    .dataframe thead th {\n",
       "        text-align: right;\n",
       "    }\n",
       "</style>\n",
       "<table border=\"1\" class=\"dataframe\">\n",
       "  <thead>\n",
       "    <tr style=\"text-align: right;\">\n",
       "      <th></th>\n",
       "      <th>user_id:token</th>\n",
       "      <th>item_id:token</th>\n",
       "      <th>rating:float</th>\n",
       "    </tr>\n",
       "  </thead>\n",
       "  <tbody>\n",
       "    <tr>\n",
       "      <th>0</th>\n",
       "      <td>1</td>\n",
       "      <td>5</td>\n",
       "      <td>0.219</td>\n",
       "    </tr>\n",
       "  </tbody>\n",
       "</table>\n",
       "</div>"
      ],
      "text/plain": [
       "   user_id:token  item_id:token  rating:float\n",
       "0              1              5         0.219"
      ]
     },
     "execution_count": 12,
     "metadata": {},
     "output_type": "execute_result"
    }
   ],
   "source": [
    "rating_df = rating_df.rename(columns={'userId':'user_id:token',\n",
    "                                      'jokeId':'item_id:token',\n",
    "                                      'rating':'rating:float'})\n",
    "rating_df.head(1)"
   ]
  },
  {
   "cell_type": "code",
   "execution_count": 13,
   "metadata": {},
   "outputs": [
    {
     "data": {
      "text/plain": [
       "0       0.219\n",
       "1      -9.281\n",
       "2      -9.281\n",
       "3      -6.781\n",
       "4       0.875\n",
       "        ...  \n",
       "9995    5.688\n",
       "9996    5.344\n",
       "9997   -6.625\n",
       "9998    5.000\n",
       "9999    6.062\n",
       "Name: rating:float, Length: 10000, dtype: float64"
      ]
     },
     "execution_count": 13,
     "metadata": {},
     "output_type": "execute_result"
    }
   ],
   "source": [
    "# rating_df['item_id:token'] \n",
    "# rating_df['user_id:token']\n",
    "rating_df['rating:float']"
   ]
  },
  {
   "cell_type": "code",
   "execution_count": 16,
   "metadata": {},
   "outputs": [
    {
     "data": {
      "text/plain": [
       "rating:float\n",
       " 9.969     73\n",
       "-9.844     67\n",
       " 9.938     65\n",
       " 10.000    48\n",
       " 9.906     46\n",
       "           ..\n",
       "-4.938      4\n",
       "-4.969      3\n",
       "-7.875      3\n",
       "-7.406      3\n",
       "-7.250      2\n",
       "Name: count, Length: 641, dtype: int64"
      ]
     },
     "execution_count": 16,
     "metadata": {},
     "output_type": "execute_result"
    }
   ],
   "source": [
    "rating_df['rating:float'].value_counts()"
   ]
  },
  {
   "cell_type": "code",
   "execution_count": 18,
   "metadata": {},
   "outputs": [],
   "source": [
    "rating_df.to_csv('joke/joke.inter', index=False, sep='\\t')"
   ]
  },
  {
   "cell_type": "code",
   "execution_count": null,
   "metadata": {},
   "outputs": [],
   "source": []
  }
 ],
 "metadata": {
  "kernelspec": {
   "display_name": "torch",
   "language": "python",
   "name": "python3"
  },
  "language_info": {
   "codemirror_mode": {
    "name": "ipython",
    "version": 3
   },
   "file_extension": ".py",
   "mimetype": "text/x-python",
   "name": "python",
   "nbconvert_exporter": "python",
   "pygments_lexer": "ipython3",
   "version": "3.8.18"
  }
 },
 "nbformat": 4,
 "nbformat_minor": 2
}
