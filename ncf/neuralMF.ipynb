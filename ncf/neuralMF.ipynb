{
 "cells": [
  {
   "cell_type": "code",
   "execution_count": 1,
   "id": "a000826b-96c3-4c74-93e1-0a4e4b994e1c",
   "metadata": {},
   "outputs": [],
   "source": [
    "import torch\n",
    "import torch.nn as nn\n",
    "import torch.optim as optim\n",
    "from sklearn.model_selection import train_test_split\n",
    "import pandas as pd"
   ]
  },
  {
   "cell_type": "code",
   "execution_count": 2,
   "id": "7724807f-aab1-42f3-820c-8344d2ef5faf",
   "metadata": {},
   "outputs": [
    {
     "data": {
      "text/html": [
       "<div>\n",
       "<style scoped>\n",
       "    .dataframe tbody tr th:only-of-type {\n",
       "        vertical-align: middle;\n",
       "    }\n",
       "\n",
       "    .dataframe tbody tr th {\n",
       "        vertical-align: top;\n",
       "    }\n",
       "\n",
       "    .dataframe thead th {\n",
       "        text-align: right;\n",
       "    }\n",
       "</style>\n",
       "<table border=\"1\" class=\"dataframe\">\n",
       "  <thead>\n",
       "    <tr style=\"text-align: right;\">\n",
       "      <th></th>\n",
       "      <th>userId</th>\n",
       "      <th>jokeId</th>\n",
       "      <th>rating</th>\n",
       "    </tr>\n",
       "  </thead>\n",
       "  <tbody>\n",
       "    <tr>\n",
       "      <th>0</th>\n",
       "      <td>1</td>\n",
       "      <td>5</td>\n",
       "      <td>0.219</td>\n",
       "    </tr>\n",
       "    <tr>\n",
       "      <th>1</th>\n",
       "      <td>1</td>\n",
       "      <td>7</td>\n",
       "      <td>-9.281</td>\n",
       "    </tr>\n",
       "    <tr>\n",
       "      <th>2</th>\n",
       "      <td>1</td>\n",
       "      <td>8</td>\n",
       "      <td>-9.281</td>\n",
       "    </tr>\n",
       "    <tr>\n",
       "      <th>3</th>\n",
       "      <td>1</td>\n",
       "      <td>13</td>\n",
       "      <td>-6.781</td>\n",
       "    </tr>\n",
       "    <tr>\n",
       "      <th>4</th>\n",
       "      <td>1</td>\n",
       "      <td>15</td>\n",
       "      <td>0.875</td>\n",
       "    </tr>\n",
       "  </tbody>\n",
       "</table>\n",
       "</div>"
      ],
      "text/plain": [
       "   userId  jokeId  rating\n",
       "0       1       5   0.219\n",
       "1       1       7  -9.281\n",
       "2       1       8  -9.281\n",
       "3       1      13  -6.781\n",
       "4       1      15   0.875"
      ]
     },
     "metadata": {},
     "output_type": "display_data"
    },
    {
     "data": {
      "text/html": [
       "<div>\n",
       "<style scoped>\n",
       "    .dataframe tbody tr th:only-of-type {\n",
       "        vertical-align: middle;\n",
       "    }\n",
       "\n",
       "    .dataframe tbody tr th {\n",
       "        vertical-align: top;\n",
       "    }\n",
       "\n",
       "    .dataframe thead th {\n",
       "        text-align: right;\n",
       "    }\n",
       "</style>\n",
       "<table border=\"1\" class=\"dataframe\">\n",
       "  <thead>\n",
       "    <tr style=\"text-align: right;\">\n",
       "      <th></th>\n",
       "      <th>jokeId</th>\n",
       "      <th>jokeText</th>\n",
       "    </tr>\n",
       "  </thead>\n",
       "  <tbody>\n",
       "    <tr>\n",
       "      <th>0</th>\n",
       "      <td>1</td>\n",
       "      <td>A man visits the doctor. The doctor says \"I ha...</td>\n",
       "    </tr>\n",
       "    <tr>\n",
       "      <th>1</th>\n",
       "      <td>2</td>\n",
       "      <td>This couple had an excellent relationship goin...</td>\n",
       "    </tr>\n",
       "    <tr>\n",
       "      <th>2</th>\n",
       "      <td>3</td>\n",
       "      <td>Q. What's 200 feet long and has 4 teeth? \\r\\n\\...</td>\n",
       "    </tr>\n",
       "    <tr>\n",
       "      <th>3</th>\n",
       "      <td>4</td>\n",
       "      <td>Q. What's the difference between a man and a t...</td>\n",
       "    </tr>\n",
       "    <tr>\n",
       "      <th>4</th>\n",
       "      <td>5</td>\n",
       "      <td>Q.\\tWhat's O. J. Simpson's Internet address? \\...</td>\n",
       "    </tr>\n",
       "  </tbody>\n",
       "</table>\n",
       "</div>"
      ],
      "text/plain": [
       "   jokeId                                           jokeText\n",
       "0       1  A man visits the doctor. The doctor says \"I ha...\n",
       "1       2  This couple had an excellent relationship goin...\n",
       "2       3  Q. What's 200 feet long and has 4 teeth? \\r\\n\\...\n",
       "3       4  Q. What's the difference between a man and a t...\n",
       "4       5  Q.\\tWhat's O. J. Simpson's Internet address? \\..."
      ]
     },
     "metadata": {},
     "output_type": "display_data"
    },
    {
     "data": {
      "text/plain": [
       "(None, None)"
      ]
     },
     "execution_count": 2,
     "metadata": {},
     "output_type": "execute_result"
    }
   ],
   "source": [
    "ratings_df = pd.read_csv('../data/jester_ratings.csv')\n",
    "jokes_df = pd.read_csv('../data/jester_items.csv')\n",
    "display(ratings_df[:5]), display(jokes_df[:5])"
   ]
  },
  {
   "cell_type": "code",
   "execution_count": 3,
   "id": "cbdbdffe-44c6-4656-92f9-c78afb710c54",
   "metadata": {},
   "outputs": [
    {
     "name": "stdout",
     "output_type": "stream",
     "text": [
      "NVIDIA GeForce RTX 3060 Laptop GPU\n"
     ]
    },
    {
     "data": {
      "text/plain": [
       "'cuda'"
      ]
     },
     "execution_count": 3,
     "metadata": {},
     "output_type": "execute_result"
    }
   ],
   "source": [
    "physical_devices = torch.cuda.get_device_name(0)\n",
    "# tf.config.experimental.set_memory_growth(physical_devices[0], True)\n",
    "print(physical_devices)\n",
    "\n",
    "device = 'cuda' if torch.cuda.is_available() else 'cpu'\n",
    "device "
   ]
  },
  {
   "cell_type": "code",
   "execution_count": 4,
   "id": "aad81f26-a69f-4780-b20d-3e9151db1794",
   "metadata": {},
   "outputs": [],
   "source": [
    "# only dataframe with user ids, joke ids and rating is needed\n",
    "df = ratings_df "
   ]
  },
  {
   "cell_type": "code",
   "execution_count": 5,
   "id": "1c62a44d-f96b-49eb-8e02-1aa4763c8f65",
   "metadata": {},
   "outputs": [],
   "source": [
    "# Encoding userId and jokeId\n",
    "df['userId'] = df['userId'].astype('category').cat.codes.values\n",
    "df['jokeId'] = df['jokeId'].astype('category').cat.codes.values"
   ]
  },
  {
   "cell_type": "code",
   "execution_count": 6,
   "id": "263bf871-6feb-4098-8f5a-0e6d7c1bff2c",
   "metadata": {},
   "outputs": [
    {
     "data": {
      "text/plain": [
       "((1233007, 3), (528432, 3))"
      ]
     },
     "execution_count": 6,
     "metadata": {},
     "output_type": "execute_result"
    }
   ],
   "source": [
    "train_data, test_data = train_test_split(df, test_size=0.3)\n",
    "train_data.shape, test_data.shape "
   ]
  },
  {
   "cell_type": "markdown",
   "id": "41243798-0eae-44c3-b1f6-3316f65be8b3",
   "metadata": {},
   "source": [
    "#### Neural Matrix Factorization Model \n",
    "\n",
    "![](neuralMF_architecture.JPG)"
   ]
  },
  {
   "cell_type": "code",
   "execution_count": 7,
   "id": "99f8f72a-00e4-4821-8170-2a13eaa6db84",
   "metadata": {},
   "outputs": [],
   "source": [
    "class NeuMF(nn.Module):\n",
    "    def __init__(self, num_users, num_items, mf_dim, mlp_layers):\n",
    "        super(NeuMF, self).__init__()\n",
    "        self.mf_user_embedding = nn.Embedding(num_users, mf_dim)\n",
    "        self.mf_item_embedding = nn.Embedding(num_items, mf_dim)\n",
    "\n",
    "        self.mlp_user_embedding = nn.Embedding(num_users, mlp_layers[0] // 2)\n",
    "        self.mlp_item_embedding = nn.Embedding(num_items, mlp_layers[0] // 2)\n",
    "\n",
    "        mlp_modules = []\n",
    "        input_size = mlp_layers[0]\n",
    "        for hidden_units in mlp_layers[1:]:\n",
    "            mlp_modules.append(nn.Linear(input_size, hidden_units))\n",
    "            mlp_modules.append(nn.ReLU())\n",
    "            input_size = hidden_units\n",
    "        self.mlp_layers = nn.Sequential(*mlp_modules)\n",
    "\n",
    "        self.final_layer = nn.Linear(mf_dim + mlp_layers[-1], 1)\n",
    "\n",
    "\n",
    "    def forward(self, user, item):\n",
    "        \n",
    "        # GMF (Generalized Matrix Factorization) part\n",
    "        mf_user_latent = self.mf_user_embedding(user)\n",
    "        mf_item_latent = self.mf_item_embedding(item)\n",
    "        mf_vector = mf_user_latent * mf_item_latent  # Element-wise product\n",
    "\n",
    "        # MLP (Multi-Layer Perceptron) part\n",
    "        mlp_user_latent = self.mlp_user_embedding(user)\n",
    "        mlp_item_latent = self.mlp_item_embedding(item)\n",
    "        mlp_vector = torch.cat([mlp_user_latent, mlp_item_latent], dim=-1)\n",
    "        mlp_vector = self.mlp_layers(mlp_vector)\n",
    "\n",
    "        # Concatenation of GMF and MLP parts\n",
    "        neu_vector = torch.cat([mf_vector, mlp_vector], dim=-1)\n",
    "        output = self.final_layer(neu_vector)\n",
    "\n",
    "        return output.squeeze()"
   ]
  },
  {
   "cell_type": "code",
   "execution_count": 8,
   "id": "572e63b2-6ddd-45dd-9783-a05e05caa93b",
   "metadata": {},
   "outputs": [
    {
     "data": {
      "text/plain": [
       "(59132, 140)"
      ]
     },
     "execution_count": 8,
     "metadata": {},
     "output_type": "execute_result"
    }
   ],
   "source": [
    "# Hyperparameters\n",
    "# dimension for matrix factorization section\n",
    "mf_dim = 50\n",
    "mlp_layers = [256, 128, 64, 32]\n",
    "\n",
    "num_users = df['userId'].nunique()\n",
    "num_jokes = df['jokeId'].nunique()\n",
    "num_users, num_jokes"
   ]
  },
  {
   "cell_type": "code",
   "execution_count": 9,
   "id": "42bc1140-93ab-4fd6-9ea0-25ffd3546679",
   "metadata": {},
   "outputs": [
    {
     "data": {
      "text/plain": [
       "NeuMF(\n",
       "  (mf_user_embedding): Embedding(59132, 50)\n",
       "  (mf_item_embedding): Embedding(140, 50)\n",
       "  (mlp_user_embedding): Embedding(59132, 128)\n",
       "  (mlp_item_embedding): Embedding(140, 128)\n",
       "  (mlp_layers): Sequential(\n",
       "    (0): Linear(in_features=256, out_features=128, bias=True)\n",
       "    (1): ReLU()\n",
       "    (2): Linear(in_features=128, out_features=64, bias=True)\n",
       "    (3): ReLU()\n",
       "    (4): Linear(in_features=64, out_features=32, bias=True)\n",
       "    (5): ReLU()\n",
       "  )\n",
       "  (final_layer): Linear(in_features=82, out_features=1, bias=True)\n",
       ")"
      ]
     },
     "execution_count": 9,
     "metadata": {},
     "output_type": "execute_result"
    }
   ],
   "source": [
    "model = NeuMF(num_users, num_jokes, mf_dim, mlp_layers)\n",
    "model = model.to(device)\n",
    "\n",
    "criterion = nn.MSELoss()\n",
    "optimizer = optim.Adam(model.parameters(), lr=0.001)\n",
    "\n",
    "\n",
    "model "
   ]
  },
  {
   "cell_type": "code",
   "execution_count": 10,
   "id": "4927c37c-6c58-4a30-a51f-855f48304685",
   "metadata": {},
   "outputs": [],
   "source": [
    "train_user_ids = torch.tensor(train_data['userId'].values, dtype=torch.long).to(device)\n",
    "train_joke_ids = torch.tensor(train_data['jokeId'].values, dtype=torch.long).to(device)\n",
    "train_ratings = torch.tensor(train_data['rating'].values, dtype=torch.float32).to(device)"
   ]
  },
  {
   "cell_type": "code",
   "execution_count": 11,
   "id": "32ac33ec-741e-4964-9533-e7d2eb6c0bf1",
   "metadata": {},
   "outputs": [
    {
     "data": {
      "text/plain": [
       "1233007"
      ]
     },
     "execution_count": 11,
     "metadata": {},
     "output_type": "execute_result"
    }
   ],
   "source": [
    "train_dataset = torch.utils.data.TensorDataset(train_user_ids, train_joke_ids, train_ratings)\n",
    "batch_size = 64 \n",
    "train_loader = torch.utils.data.DataLoader(train_dataset, batch_size=batch_size, shuffle=True)\n",
    "len(train_dataset)"
   ]
  },
  {
   "cell_type": "code",
   "execution_count": 12,
   "id": "6cd9baf8-5c18-4e3e-a9fc-4d0608926ca4",
   "metadata": {},
   "outputs": [],
   "source": [
    "# Training loop\n",
    "\n",
    "training_losses = []\n",
    "iter_losses = []\n",
    "\n",
    "def train_model(model, epochs=5, batch_size=64):\n",
    "    model.train()\n",
    "    \n",
    "    for epoch in range(epochs):\n",
    "        total_loss = 0\n",
    "        for user_ids, joke_ids, ratings in train_loader:\n",
    "            optimizer.zero_grad()\n",
    "            predictions = model(user_ids, joke_ids)\n",
    "            loss = criterion(predictions, ratings)\n",
    "            \n",
    "            loss.backward()\n",
    "            optimizer.step()\n",
    "            \n",
    "            total_loss += loss.detach().cpu().numpy()\n",
    "            \n",
    "            iter_losses.append(total_loss)\n",
    "            \n",
    "        avg_loss = total_loss / len(train_loader)\n",
    "        training_losses.append(avg_loss)\n",
    "        print(f\"Epoch {epoch+1}/{epochs}, Loss: {avg_loss}\")"
   ]
  },
  {
   "cell_type": "code",
   "execution_count": 13,
   "id": "f11d6775-2400-4afc-9073-59740bb3cd78",
   "metadata": {},
   "outputs": [
    {
     "name": "stdout",
     "output_type": "stream",
     "text": [
      "Epoch 1/1, Loss: 20.9915321395737\n"
     ]
    }
   ],
   "source": [
    "train_model(model, epochs=1)"
   ]
  },
  {
   "cell_type": "code",
   "execution_count": 14,
   "id": "7c186c75-b49c-4013-b811-15b94028691c",
   "metadata": {},
   "outputs": [
    {
     "data": {
      "image/png": "[encoded data removed]",
      "text/plain": [
       "<Figure size 1000x600 with 1 Axes>"
      ]
     },
     "metadata": {},
     "output_type": "display_data"
    }
   ],
   "source": [
    "import matplotlib.pyplot as plt \n",
    "\n",
    "def plot_losses(losses):\n",
    "    plt.figure(figsize=(10, 6))\n",
    "    \n",
    "    plt.plot(range(1, len(losses) + 1), losses, label='Training Loss', color='b', linewidth=2)\n",
    "\n",
    "    plt.title('Training Loss Over Epochs', fontsize=16)\n",
    "    plt.xlabel('Epoch', fontsize=14)\n",
    "    plt.ylabel('Loss', fontsize=14)\n",
    "\n",
    "    plt.grid(True)\n",
    "    plt.legend(loc='upper right', fontsize=12)\n",
    "\n",
    "    plt.show()\n",
    "\n",
    "plot_losses(training_losses)"
   ]
  },
  {
   "cell_type": "code",
   "execution_count": 15,
   "id": "b4554e3a-cf56-43b8-8a00-6f3c05cd0774",
   "metadata": {},
   "outputs": [
    {
     "data": {
      "image/png": "[encoded data removed]",
      "text/plain": [
       "<Figure size 1000x600 with 1 Axes>"
      ]
     },
     "metadata": {},
     "output_type": "display_data"
    }
   ],
   "source": [
    "plot_losses(iter_losses)"
   ]
  },
  {
   "cell_type": "markdown",
   "id": "261d71cd-b85f-46e0-9ba3-0d89e87ec8f8",
   "metadata": {},
   "source": [
    "## Evaluation of model with metrics"
   ]
  },
  {
   "cell_type": "code",
   "execution_count": 29,
   "id": "316937ed-f982-479b-b6a5-d83e11e2656d",
   "metadata": {},
   "outputs": [],
   "source": [
    "from sklearn.metrics import precision_score, recall_score\n",
    "from scipy.special import expit as sigmoid\n",
    "import numpy as np"
   ]
  },
  {
   "cell_type": "code",
   "execution_count": 55,
   "id": "a72833b4-57f5-40cb-89c1-b4ad463bdd1b",
   "metadata": {},
   "outputs": [],
   "source": [
    "def compute_ndcg(predictions, true_labels, k=2):\n",
    "    if k>predictions.shape[0]:\n",
    "        k = len(predictions)\n",
    "    relevance = np.array([true_labels[i] for i in np.argsort(-predictions)[:k]])\n",
    "    dcg = np.sum((2**relevance - 1) / np.log2(np.arange(2, k + 2)))\n",
    "    \n",
    "    # Compute IDCG using sorted relevance\n",
    "    sorted_relevance = np.sort(true_labels)[::-1]\n",
    "    idcg_relevance = np.array([sorted_relevance[i] for i in np.argsort(-predictions)[:k]])\n",
    "    idcg = np.sum((2**idcg_relevance - 1) / np.log2(np.arange(2, k + 2)))\n",
    "    \n",
    "    return dcg / idcg if idcg > 0 else 0"
   ]
  },
  {
   "cell_type": "code",
   "execution_count": 56,
   "id": "9d68cdc0-caab-48d1-b562-b634f628f4d5",
   "metadata": {},
   "outputs": [
    {
     "data": {
      "text/plain": [
       "1.199053372688933"
      ]
     },
     "execution_count": 56,
     "metadata": {},
     "output_type": "execute_result"
    }
   ],
   "source": [
    "compute_ndcg(np.array([1,2,3,4]), np.array([3,3,2,3])) "
   ]
  },
  {
   "cell_type": "code",
   "execution_count": 69,
   "id": "b2d8dc5f-16b4-4859-9198-6f35c425ac12",
   "metadata": {},
   "outputs": [],
   "source": [
    "def evaluate_model2(model, test_data, k=10):\n",
    "    model.eval()\n",
    "    test_user_ids = torch.tensor(test_data['userId'].values, dtype=torch.long).to(device)\n",
    "    test_item_ids = torch.tensor(test_data['jokeId'].values, dtype=torch.long).to(device)\n",
    "    test_ratings = torch.tensor(test_data['rating'].values, dtype=torch.float).to(device)\n",
    "    with torch.no_grad():\n",
    "        predictions = model(test_user_ids, test_item_ids).detach().cpu().numpy()\n",
    "\n",
    "    mse = ((predictions - test_data['rating'].values) ** 2).mean()\n",
    "    print(f\"Test MSE: {mse}\")\n",
    "\n",
    "    # Convert to binary relevance for precision/recall calculations\n",
    "    binary_relevance = (test_ratings.cpu().numpy() > 0).astype(int)\n",
    "    predicted_scores = torch.sigmoid(torch.tensor(predictions)).numpy()\n",
    "\n",
    "    # Prepare for batch processing\n",
    "    unique_user_ids = np.unique(test_user_ids.cpu().numpy())\n",
    "    precision_at_k = []\n",
    "    recall_at_k = []\n",
    "    ndcg_at_k = []\n",
    "\n",
    "    # Convert to torch tensors for efficiency\n",
    "    user_scores_tensor = torch.tensor(predicted_scores)\n",
    "    user_labels_tensor = torch.tensor(binary_relevance)\n",
    "\n",
    "    for user_id in unique_user_ids:\n",
    "        user_indices = np.where(test_user_ids.cpu().numpy() == user_id)[0]\n",
    "        user_scores = user_scores_tensor[user_indices].numpy()\n",
    "        user_labels = user_labels_tensor[user_indices].numpy()\n",
    "\n",
    "        # Sort items for the user by predicted scores\n",
    "        sorted_indices = np.argsort(-user_scores)\n",
    "        top_k_indices = sorted_indices[:k]\n",
    "        \n",
    "        # Precision and Recall @k\n",
    "        relevant_items = np.sum(user_labels[top_k_indices])\n",
    "        precision_at_k.append(relevant_items / k)\n",
    "        recall_at_k.append(relevant_items / np.sum(user_labels))\n",
    "\n",
    "        # NDCG @k\n",
    "        ndcg_at_k.append(compute_ndcg(user_scores, user_labels, k))\n",
    "\n",
    "    print(f\"Precision @ {k}: {np.mean(precision_at_k)}\")\n",
    "    print(f\"Recall @ {k}: {np.mean(recall_at_k)}\")\n",
    "    print(f\"NDCG @ {k}: {np.mean(ndcg_at_k)}\")"
   ]
  },
  {
   "cell_type": "code",
   "execution_count": 70,
   "id": "1b937a70-5cf3-4b5e-8b07-c16cb869561d",
   "metadata": {},
   "outputs": [],
   "source": [
    "def evaluate_model(model, test_data):\n",
    "    model.eval()\n",
    "    test_user_ids = torch.tensor(test_data['userId'].values, dtype=torch.long).to(device)\n",
    "    test_item_ids = torch.tensor(test_data['jokeId'].values, dtype=torch.long).to(device)\n",
    "    test_ratings = test_data['rating'].values\n",
    "    with torch.no_grad():\n",
    "        predictions = model(test_user_ids, test_item_ids).detach().cpu().numpy()\n",
    "    mse = ((predictions - test_ratings) ** 2).mean()\n",
    "    print(f\"Test MSE: {mse}\")"
   ]
  },
  {
   "cell_type": "code",
   "execution_count": 71,
   "id": "2ba5e44e-00ab-4a2f-9c87-3d05bcd9f653",
   "metadata": {},
   "outputs": [
    {
     "name": "stdout",
     "output_type": "stream",
     "text": [
      "Test MSE: 19.006006816375184\n"
     ]
    }
   ],
   "source": [
    "# Evaluate the model\n",
    "evaluate_model(model, test_data)"
   ]
  },
  {
   "cell_type": "code",
   "execution_count": 72,
   "id": "43441549-b284-434e-87ab-1c3a2352da68",
   "metadata": {},
   "outputs": [
    {
     "name": "stdout",
     "output_type": "stream",
     "text": [
      "Test MSE: 19.006006816375184\n"
     ]
    },
    {
     "name": "stderr",
     "output_type": "stream",
     "text": [
      "C:\\Users\\OMEN\\AppData\\Local\\Temp\\ipykernel_19804\\2578862550.py:38: RuntimeWarning: invalid value encountered in scalar divide\n",
      "  recall_at_k.append(relevant_items / np.sum(user_labels))\n"
     ]
    },
    {
     "name": "stdout",
     "output_type": "stream",
     "text": [
      "Precision @ 10: 0.40299353912419245\n",
      "Recall @ 10: nan\n",
      "NDCG @ 10: 0.9837646577846402\n"
     ]
    }
   ],
   "source": [
    "evaluate_model2(model, test_data)"
   ]
  },
  {
   "cell_type": "code",
   "execution_count": 18,
   "id": "9e988de8-8c6b-46f7-aee8-31c8f163922a",
   "metadata": {},
   "outputs": [],
   "source": [
    "def predict_rating(model, user_id, joke_id):\n",
    "    model.eval()  \n",
    "    with torch.no_grad():\n",
    "        user_tensor = torch.tensor([user_id], dtype=torch.long).to(device)\n",
    "        joke_tensor = torch.tensor([joke_id], dtype=torch.long).to(device)\n",
    "        prediction = model(user_tensor, joke_tensor)\n",
    "    return prediction.item() "
   ]
  },
  {
   "cell_type": "code",
   "execution_count": 19,
   "id": "150acb32-ead5-4594-b269-d32c504ec431",
   "metadata": {},
   "outputs": [
    {
     "data": {
      "text/plain": [
       "140"
      ]
     },
     "execution_count": 19,
     "metadata": {},
     "output_type": "execute_result"
    }
   ],
   "source": [
    "num_jokes "
   ]
  },
  {
   "cell_type": "code",
   "execution_count": 20,
   "id": "a9566574-aad7-47b7-92d5-89c6bc2b8b32",
   "metadata": {},
   "outputs": [
    {
     "data": {
      "text/plain": [
       "-1.5555334091186523"
      ]
     },
     "execution_count": 20,
     "metadata": {},
     "output_type": "execute_result"
    }
   ],
   "source": [
    "user_id = 10  \n",
    "joke_id = 1  \n",
    "\n",
    "predicted_rating = predict_rating(model, user_id, joke_id)\n",
    "predicted_rating "
   ]
  },
  {
   "cell_type": "code",
   "execution_count": null,
   "id": "89a4ccc9-c153-428e-b0dd-afee0721372a",
   "metadata": {},
   "outputs": [],
   "source": []
  }
 ],
 "metadata": {
  "kernelspec": {
   "display_name": "torch",
   "language": "python",
   "name": "torch"
  },
  "language_info": {
   "codemirror_mode": {
    "name": "ipython",
    "version": 3
   },
   "file_extension": ".py",
   "mimetype": "text/x-python",
   "name": "python",
   "nbconvert_exporter": "python",
   "pygments_lexer": "ipython3",
   "version": "3.11.4"
  }
 },
 "nbformat": 4,
 "nbformat_minor": 5
}
